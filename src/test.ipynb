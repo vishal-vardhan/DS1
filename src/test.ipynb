{
 "cells": [
  {
   "cell_type": "code",
   "execution_count": 1,
   "id": "filled-craps",
   "metadata": {},
   "outputs": [],
   "source": [
    "from tensorflow import keras\n",
    "import matplotlib.pyplot as plt\n",
    "import numpy as np\n",
    "from utils import plotTrainTestLoss"
   ]
  },
  {
   "cell_type": "code",
   "execution_count": 2,
   "id": "aerial-staff",
   "metadata": {},
   "outputs": [],
   "source": [
    "fwd = keras.models.load_model(\"savedFwdModel\")"
   ]
  },
  {
   "cell_type": "code",
   "execution_count": 3,
   "id": "ongoing-massachusetts",
   "metadata": {},
   "outputs": [
    {
     "output_type": "stream",
     "name": "stdout",
     "text": [
      "Model: \"model_17\"\n_________________________________________________________________\nLayer (type)                 Output Shape              Param #   \n=================================================================\nfwd_input_layer (InputLayer) [(None, 5)]               0         \n_________________________________________________________________\ndense_76 (Dense)             (None, 256)               1536      \n_________________________________________________________________\nfwd_output_layer (Dense)     (None, 300)               77100     \n=================================================================\nTotal params: 78,636\nTrainable params: 78,636\nNon-trainable params: 0\n_________________________________________________________________\n"
     ]
    }
   ],
   "source": [
    "fwd.summary()"
   ]
  },
  {
   "cell_type": "code",
   "execution_count": null,
   "metadata": {},
   "outputs": [],
   "source": []
  }
 ],
 "metadata": {
  "kernelspec": {
   "display_name": "Python 3",
   "language": "python",
   "name": "python3"
  },
  "language_info": {
   "codemirror_mode": {
    "name": "ipython",
    "version": 3
   },
   "file_extension": ".py",
   "mimetype": "text/x-python",
   "name": "python",
   "nbconvert_exporter": "python",
   "pygments_lexer": "ipython3",
   "version": "3.7.8-final"
  }
 },
 "nbformat": 4,
 "nbformat_minor": 5
}