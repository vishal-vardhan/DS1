{
 "cells": [
  {
   "cell_type": "code",
   "execution_count": 5,
   "metadata": {},
   "outputs": [],
   "source": [
    "from cmath import sinh, tanh, cosh\n",
    "import matplotlib.pyplot as plt\n",
    "import numpy as np\n",
    "from sklearn.model_selection import train_test_split\n",
    "%matplotlib inline"
   ]
  },
  {
   "cell_type": "code",
   "execution_count": 6,
   "metadata": {},
   "outputs": [],
   "source": [
    "SAMPLE_SIZE = 600\n",
    "NETA_RANGE = (0.7, 0.9)\n",
    "DELTA_RANGE = (0.008, 0.1)\n",
    "N_RANGE = (500, 5000)\n",
    "PITCH_RANGE = (50, 300)\n",
    "LAMBDA_RANGE = (300, 3000)\n",
    "NO_OF_VARIABLES = 5"
   ]
  },
  {
   "cell_type": "code",
   "execution_count": 7,
   "metadata": {},
   "outputs": [],
   "source": [
    "def P(neta, delta, N, pitch, x, x0):\n",
    "    \"\"\"\n",
    "    Reflected power function\n",
    "    \"\"\"\n",
    "    sqrt = lambda v: complex(v, 0)**0.5\n",
    "\n",
    "    g = (1.0/(neta*delta))*((x/x0)-1)\n",
    "    g = g**2\n",
    "\n",
    "    theta = neta*delta*N*pitch*sqrt(1-g)/x\n",
    "\n",
    "    nr = sinh(theta)**2\n",
    "    dr = (cosh(theta)**2)-g\n",
    "\n",
    "    return abs(nr/dr)\n",
    "\n",
    "\n",
    "def reflected_samples(neta:float, delta:float, N:float, pitch:float, x0:float):\n",
    "    \"\"\"\n",
    "    returns : numpy array \n",
    "    \"\"\"\n",
    "    \n",
    "    # uniformly sample the function\n",
    "    # generate sample points\n",
    "    d = (LAMBDA_RANGE[1] - LAMBDA_RANGE[0])/SAMPLE_SIZE\n",
    "    x = LAMBDA_RANGE[0]\n",
    "    \n",
    "    Y = []\n",
    "    \n",
    "    for _ in range(SAMPLE_SIZE):\n",
    "        Y.append(P(neta, delta, N, pitch, x, x0))\n",
    "        x = x + d\n",
    "    \n",
    "    return np.array(Y)\n",
    "\n",
    "\n",
    "def generate_data(m):\n",
    "    \"\"\"\n",
    "    generates input and output samples given input samples\n",
    "    \"\"\"\n",
    "    \n",
    "    X = np.random.rand(m, NO_OF_VARIABLES)\n",
    "    Y = []\n",
    "\n",
    "    for sample in X:\n",
    "        neta = NETA_RANGE[0]+(NETA_RANGE[1]-NETA_RANGE[0])*sample[0]\n",
    "        delta = DELTA_RANGE[0]+(DELTA_RANGE[1]-DELTA_RANGE[0])*sample[1]\n",
    "        N = N_RANGE[0]+(N_RANGE[1]-N_RANGE[0])*sample[2]\n",
    "        pitch = PITCH_RANGE[0]+(PITCH_RANGE[1]-PITCH_RANGE[0])*sample[3]\n",
    "        x0 = LAMBDA_RANGE[0]+(LAMBDA_RANGE[1]-LAMBDA_RANGE[0])*sample[4]\n",
    "\n",
    "        Y.append(reflected_samples(neta, delta, N, pitch, x0))\n",
    "    \n",
    "    Y = np.array(Y)\n",
    "    \n",
    "    return X, Y"
   ]
  },
  {
   "cell_type": "code",
   "execution_count": 10,
   "metadata": {
    "tags": []
   },
   "outputs": [
    {
     "name": "stdout",
     "output_type": "stream",
     "text": [
      "CPU times: user 17 µs, sys: 0 ns, total: 17 µs\n",
      "Wall time: 31.9 µs\n"
     ]
    }
   ],
   "source": [
    "%time\n",
    "X, Y = generate_data(200000)"
   ]
  },
  {
   "cell_type": "code",
   "execution_count": 11,
   "metadata": {
    "tags": []
   },
   "outputs": [
    {
     "name": "stdout",
     "output_type": "stream",
     "text": [
      "(200000, 5) (200000, 600)\n"
     ]
    }
   ],
   "source": [
    "print(X.shape, Y.shape)"
   ]
  },
  {
   "cell_type": "code",
   "execution_count": 22,
   "metadata": {},
   "outputs": [
    {
     "data": {
      "text/plain": [
       "[<matplotlib.lines.Line2D at 0x7f2e54c67790>]"
      ]
     },
     "execution_count": 22,
     "metadata": {},
     "output_type": "execute_result"
    },
    {
     "data": {
      "image/png": "[encoded data removed]",
      "text/plain": [
       "<Figure size 432x288 with 1 Axes>"
      ]
     },
     "metadata": {
      "needs_background": "light"
     },
     "output_type": "display_data"
    }
   ],
   "source": [
    "d = (LAMBDA_RANGE[1] - LAMBDA_RANGE[0])/SAMPLE_SIZE\n",
    "x = []\n",
    "start = LAMBDA_RANGE[0]\n",
    "\n",
    "for _ in range(SAMPLE_SIZE):\n",
    "    x.append(start)\n",
    "    start = start + d\n",
    "\n",
    "x = np.array(x)\n",
    "\n",
    "plt.plot(x, Y[6317])"
   ]
  },
  {
   "cell_type": "code",
   "execution_count": 13,
   "metadata": {},
   "outputs": [],
   "source": [
    "Xtrain, Xtest, Ytrain, Ytest = train_test_split(X, Y, test_size=0.2, shuffle=True, random_state=42)"
   ]
  },
  {
   "cell_type": "code",
   "execution_count": null,
   "metadata": {},
   "outputs": [],
   "source": [
    "data = dict()\n",
    "data['Xtrain'] = Xtrain\n",
    "data['Ytrain'] = Ytrain\n",
    "data['Xtest'] = Xtest\n",
    "data['Ytest'] = Ytest"
   ]
  },
  {
   "cell_type": "code",
   "execution_count": 14,
   "metadata": {},
   "outputs": [],
   "source": [
    "np.savez('data_600_samples200000', Xtrain=Xtrain, Ytrain=Ytrain, Xtest=Xtest, Ytest=Ytest)"
   ]
  },
  {
   "cell_type": "code",
   "execution_count": 15,
   "metadata": {},
   "outputs": [],
   "source": [
    "with np.load('data_600_samples200000.npz') as data:\n",
    "    xtrain = data['Xtrain']\n",
    "    ytrain = data['Ytrain']\n",
    "    xtest = data['Xtest']\n",
    "    ytest = data['Ytest']"
   ]
  },
  {
   "cell_type": "code",
   "execution_count": 16,
   "metadata": {
    "tags": []
   },
   "outputs": [
    {
     "name": "stdout",
     "output_type": "stream",
     "text": [
      "(160000, 5) (160000, 600)\n",
      "(40000, 5) (160000, 600)\n"
     ]
    }
   ],
   "source": [
    "print(xtrain.shape, ytrain.shape)\n",
    "print(xtest.shape, ytrain.shape)"
   ]
  },
  {
   "cell_type": "code",
   "execution_count": null,
   "metadata": {},
   "outputs": [],
   "source": [
    "plt.plot(x, y1[0])"
   ]
  },
  {
   "cell_type": "code",
   "execution_count": 23,
   "metadata": {},
   "outputs": [],
   "source": [
    "from cmath import atanh"
   ]
  },
  {
   "cell_type": "code",
   "execution_count": null,
   "metadata": {},
   "outputs": [],
   "source": []
  }
 ],
 "metadata": {
  "kernelspec": {
   "display_name": "Python 3",
   "language": "python",
   "name": "python3"
  },
  "language_info": {
   "codemirror_mode": {
    "name": "ipython",
    "version": 3
   },
   "file_extension": ".py",
   "mimetype": "text/x-python",
   "name": "python",
   "nbconvert_exporter": "python",
   "pygments_lexer": "ipython3",
   "version": "3.7.8"
  }
 },
 "nbformat": 4,
 "nbformat_minor": 4
}
