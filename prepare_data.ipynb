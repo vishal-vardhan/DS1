{
 "cells": [
  {
   "cell_type": "code",
   "execution_count": 1,
   "metadata": {},
   "outputs": [],
   "source": [
    "import math\n",
    "import matplotlib.pyplot as plt\n",
    "%matplotlib inline"
   ]
  },
  {
   "cell_type": "code",
   "execution_count": 2,
   "metadata": {},
   "outputs": [],
   "source": [
    "def P(neta, delta, N, pitch, x, x0): \n",
    "    sqrt = lambda v: v**0.5\n",
    "    \n",
    "    g = (1.0/(neta*delta))*((x/x0)-1)\n",
    "    g = g**2\n",
    "    \n",
    "    theta = neta*delta*N*pitch*sqrt(1-g)/x\n",
    "    \n",
    "    nr = math.sinh(theta)**2\n",
    "    dr = (math.cosh(theta)**2)-g\n",
    "    \n",
    "    return nr/dr\n",
    "\n",
    "def reflected_samples(l, r, n, neta, delta, N, pitch, x0):\n",
    "    \"\"\"\n",
    "    func: (function): the function that is being sampled\n",
    "    l: (double): lower limit\n",
    "    r: upper bound\n",
    "    n: number of samples\n",
    "    rest has their usual meaning\n",
    "    \n",
    "    returns : list \n",
    "    \"\"\"\n",
    "    \n",
    "    # uniformly sample the function\n",
    "    # generate sample points\n",
    "    d = (r-l)/n\n",
    "    x = l\n",
    "    \n",
    "    X = []\n",
    "    Y = []\n",
    "    \n",
    "    for _ in range(n):\n",
    "        X.append(x)\n",
    "        Y.append(func(neta, delta, N, pitch, x, x0))\n",
    "        x = x + d\n",
    "    \n",
    "    return (X, Y)"
   ]
  },
  {
   "cell_type": "code",
   "execution_count": null,
   "metadata": {},
   "outputs": [],
   "source": [
    "neta = 0.75\n",
    "delta = 1\n",
    "N = 50\n",
    "pitch = 1\n",
    "x0 = 1\n",
    "l = 380\n",
    "r = 740\n",
    "n = 1000\n",
    "\n",
    "X, Y = reflected_samples()\n",
    "\n",
    "plt.scatter(X, Y)"
   ]
  },
  {
   "cell_type": "code",
   "execution_count": 3,
   "metadata": {},
   "outputs": [],
   "source": [
    "f = lambda x: (1/(0.5*0.75))*((x/500)-1)"
   ]
  },
  {
   "cell_type": "code",
   "execution_count": 6,
   "metadata": {},
   "outputs": [
    {
     "data": {
      "text/plain": [
       "-2.1333333333333333"
      ]
     },
     "execution_count": 6,
     "metadata": {},
     "output_type": "execute_result"
    }
   ],
   "source": [
    "f(100)"
   ]
  },
  {
   "cell_type": "code",
   "execution_count": null,
   "metadata": {},
   "outputs": [],
   "source": []
  },
  {
   "cell_type": "code",
   "execution_count": null,
   "metadata": {},
   "outputs": [],
   "source": []
  },
  {
   "cell_type": "code",
   "execution_count": null,
   "metadata": {},
   "outputs": [],
   "source": []
  },
  {
   "cell_type": "code",
   "execution_count": null,
   "metadata": {},
   "outputs": [],
   "source": []
  },
  {
   "cell_type": "code",
   "execution_count": null,
   "metadata": {},
   "outputs": [],
   "source": []
  },
  {
   "cell_type": "code",
   "execution_count": null,
   "metadata": {},
   "outputs": [],
   "source": []
  }
 ],
 "metadata": {
  "kernelspec": {
   "display_name": "Python 3",
   "language": "python",
   "name": "python3"
  },
  "language_info": {
   "codemirror_mode": {
    "name": "ipython",
    "version": 3
   },
   "file_extension": ".py",
   "mimetype": "text/x-python",
   "name": "python",
   "nbconvert_exporter": "python",
   "pygments_lexer": "ipython3",
   "version": "3.7.6"
  }
 },
 "nbformat": 4,
 "nbformat_minor": 4
}
