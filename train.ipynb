{
 "cells": [
  {
   "cell_type": "code",
   "execution_count": 1,
   "metadata": {},
   "outputs": [
    {
     "name": "stderr",
     "output_type": "stream",
     "text": [
      "/home/ninja/anaconda3/envs/DS1_env/lib/python3.7/site-packages/tensorflow/python/framework/dtypes.py:516: FutureWarning: Passing (type, 1) or '1type' as a synonym of type is deprecated; in a future version of numpy, it will be understood as (type, (1,)) / '(1,)type'.\n",
      "  _np_qint8 = np.dtype([(\"qint8\", np.int8, 1)])\n",
      "/home/ninja/anaconda3/envs/DS1_env/lib/python3.7/site-packages/tensorflow/python/framework/dtypes.py:517: FutureWarning: Passing (type, 1) or '1type' as a synonym of type is deprecated; in a future version of numpy, it will be understood as (type, (1,)) / '(1,)type'.\n",
      "  _np_quint8 = np.dtype([(\"quint8\", np.uint8, 1)])\n",
      "/home/ninja/anaconda3/envs/DS1_env/lib/python3.7/site-packages/tensorflow/python/framework/dtypes.py:518: FutureWarning: Passing (type, 1) or '1type' as a synonym of type is deprecated; in a future version of numpy, it will be understood as (type, (1,)) / '(1,)type'.\n",
      "  _np_qint16 = np.dtype([(\"qint16\", np.int16, 1)])\n",
      "/home/ninja/anaconda3/envs/DS1_env/lib/python3.7/site-packages/tensorflow/python/framework/dtypes.py:519: FutureWarning: Passing (type, 1) or '1type' as a synonym of type is deprecated; in a future version of numpy, it will be understood as (type, (1,)) / '(1,)type'.\n",
      "  _np_quint16 = np.dtype([(\"quint16\", np.uint16, 1)])\n",
      "/home/ninja/anaconda3/envs/DS1_env/lib/python3.7/site-packages/tensorflow/python/framework/dtypes.py:520: FutureWarning: Passing (type, 1) or '1type' as a synonym of type is deprecated; in a future version of numpy, it will be understood as (type, (1,)) / '(1,)type'.\n",
      "  _np_qint32 = np.dtype([(\"qint32\", np.int32, 1)])\n",
      "/home/ninja/anaconda3/envs/DS1_env/lib/python3.7/site-packages/tensorflow/python/framework/dtypes.py:525: FutureWarning: Passing (type, 1) or '1type' as a synonym of type is deprecated; in a future version of numpy, it will be understood as (type, (1,)) / '(1,)type'.\n",
      "  np_resource = np.dtype([(\"resource\", np.ubyte, 1)])\n",
      "/home/ninja/anaconda3/envs/DS1_env/lib/python3.7/site-packages/tensorboard/compat/tensorflow_stub/dtypes.py:541: FutureWarning: Passing (type, 1) or '1type' as a synonym of type is deprecated; in a future version of numpy, it will be understood as (type, (1,)) / '(1,)type'.\n",
      "  _np_qint8 = np.dtype([(\"qint8\", np.int8, 1)])\n",
      "/home/ninja/anaconda3/envs/DS1_env/lib/python3.7/site-packages/tensorboard/compat/tensorflow_stub/dtypes.py:542: FutureWarning: Passing (type, 1) or '1type' as a synonym of type is deprecated; in a future version of numpy, it will be understood as (type, (1,)) / '(1,)type'.\n",
      "  _np_quint8 = np.dtype([(\"quint8\", np.uint8, 1)])\n",
      "/home/ninja/anaconda3/envs/DS1_env/lib/python3.7/site-packages/tensorboard/compat/tensorflow_stub/dtypes.py:543: FutureWarning: Passing (type, 1) or '1type' as a synonym of type is deprecated; in a future version of numpy, it will be understood as (type, (1,)) / '(1,)type'.\n",
      "  _np_qint16 = np.dtype([(\"qint16\", np.int16, 1)])\n",
      "/home/ninja/anaconda3/envs/DS1_env/lib/python3.7/site-packages/tensorboard/compat/tensorflow_stub/dtypes.py:544: FutureWarning: Passing (type, 1) or '1type' as a synonym of type is deprecated; in a future version of numpy, it will be understood as (type, (1,)) / '(1,)type'.\n",
      "  _np_quint16 = np.dtype([(\"quint16\", np.uint16, 1)])\n",
      "/home/ninja/anaconda3/envs/DS1_env/lib/python3.7/site-packages/tensorboard/compat/tensorflow_stub/dtypes.py:545: FutureWarning: Passing (type, 1) or '1type' as a synonym of type is deprecated; in a future version of numpy, it will be understood as (type, (1,)) / '(1,)type'.\n",
      "  _np_qint32 = np.dtype([(\"qint32\", np.int32, 1)])\n",
      "/home/ninja/anaconda3/envs/DS1_env/lib/python3.7/site-packages/tensorboard/compat/tensorflow_stub/dtypes.py:550: FutureWarning: Passing (type, 1) or '1type' as a synonym of type is deprecated; in a future version of numpy, it will be understood as (type, (1,)) / '(1,)type'.\n",
      "  np_resource = np.dtype([(\"resource\", np.ubyte, 1)])\n"
     ]
    }
   ],
   "source": [
    "import numpy as np\n",
    "import tensorflow as tf\n",
    "from tensorflow import keras\n",
    "from tensorflow.keras.layers import Dense, Input, BatchNormalization\n",
    "from tensorflow.keras import Sequential, Model\n",
    "from tensorflow.keras.models import load_model\n",
    "from sklearn.model_selection import train_test_split\n",
    "import matplotlib.pyplot as plt\n",
    "%matplotlib inline"
   ]
  },
  {
   "cell_type": "code",
   "execution_count": 2,
   "metadata": {},
   "outputs": [],
   "source": [
    "TRAIN_DATA_PATH = 'data_60_samples300000.npz'\n",
    "# FWD_INPUT_SHAPE = (5, )\n",
    "# FWD_OUTPUT_UNITS = 60\n",
    "\n",
    "# BWD_INPUT_SHAPE = (60, )\n",
    "# BWD_OUTPUT_UNITS = 5"
   ]
  },
  {
   "cell_type": "code",
   "execution_count": 3,
   "metadata": {},
   "outputs": [],
   "source": [
    "class TandemModel:\n",
    "    def __init__(self, path_to_data):\n",
    "        self.path = path_to_data\n",
    "        self.x_train = None\n",
    "        self.y_train = None\n",
    "        self.x_test = None\n",
    "        self.y_test = None\n",
    "        \n",
    "        # load data\n",
    "        with np.load(self.path) as data:\n",
    "            self.x_train, self.x_test, self.y_train, self.y_test = train_test_split(data['X'], data['Y'], test_size=0.1, shuffle=True)\n",
    "            \n",
    "        self.fwd_input_shape = self.x_train.shape[1:]\n",
    "        self.fwd_ouput_units = self.y_train.shape[1]\n",
    "        \n",
    "        self.bwd_input_shape = self.y_train.shape[1:]\n",
    "        self.bwd_output_units = self.x_train.shape[1]\n",
    "        \n",
    "        self.fwd = None\n",
    "        self.bwd = None\n",
    "        self.tandem = None\n",
    "\n",
    "        \n",
    "    def build_fwd_model(self):\n",
    "        \"\"\"\n",
    "        predicts target response based on design parameters\n",
    "        \"\"\"\n",
    "        self.fwd = Sequential(name='fwd_model')\n",
    "        \n",
    "        inputs = Input(shape=self.fwd_input_shape, name='fwd_input_layer')\n",
    "        \n",
    "        x = Dense(64, activation='relu', name='fwd_hidden_layer1')(inputs)\n",
    "        x = BatchNormalization()(x)\n",
    "        x = Dense(64, activation='relu', name='fwd_hidden_layer2')(x)\n",
    "        x = BatchNormalization()(x)\n",
    "        x = Dense(64, activation='relu', name='fwd_hidden_layer3')(x)\n",
    "        x = BatchNormalization()(x)\n",
    "        x = Dense(64, activation='relu', name='fwd_hidden_layer4')(x)\n",
    "        x = BatchNormalization()(x)\n",
    "        \n",
    "        outputs = Dense(self.fwd_ouput_units, name='fwd_output_layer', activation='sigmoid')(x)\n",
    "        \n",
    "        self.fwd = Model(inputs=inputs, outputs=outputs)\n",
    "        \n",
    "#         self.fwd.compile(loss='mse', optimizer='adam', metrics=['accuracy'])\n",
    "\n",
    "    \n",
    "    def load_fwd_saved_model(self, path):\n",
    "        self.fwd = load_model(path)\n",
    "        \n",
    "    \n",
    "    def build_bwd_model(self):\n",
    "        \"\"\"\n",
    "        predicts design parameters based on target response\n",
    "        \"\"\"\n",
    "        inputs = Input(shape=self.bwd_input_shape, name='bwd_input_layer')\n",
    "        \n",
    "        x = Dense(64, activation='relu', name='bwd_hidden_layer1')(inputs)\n",
    "        x = BatchNormalization()(x)\n",
    "        x = Dense(64, activation='relu', name='bwd_hidden_layer2')(x)\n",
    "        x = BatchNormalization()(x)\n",
    "        x = Dense(64, activation='relu', name='bwd_hidden_layer3')(x)\n",
    "        x = BatchNormalization()(x)\n",
    "        x = Dense(32, activation='relu', name='bwd_hidden_layer4')(x)\n",
    "        x = BatchNormalization()(x)\n",
    "        x = Dense(self.bwd_output_units, name='bwd_output_layer', activation='sigmoid')(x)\n",
    "        \n",
    "        self.bwd = Model(inputs, x)\n",
    "    \n",
    "\n",
    "    def build_tandem_model(self):\n",
    "        x = self.bwd.output\n",
    "        \n",
    "        for layer in self.fwd.layers[1:]:\n",
    "            layer.trainable = False\n",
    "            x = layer(x)\n",
    "            \n",
    "        self.tandem = Model(inputs=self.bwd.input, outputs=x)\n",
    "        \n",
    "    \n",
    "    def load_bwd_saved_model(self, path):\n",
    "        self.bwd = load_model(path)\n",
    "    \n",
    "    \n",
    "    def summary(self, model='fwd'):\n",
    "        if(model == 'fwd'):\n",
    "            return self.fwd.summary()\n",
    "        return self.bwd.summary()\n",
    "    \n",
    "    \n",
    "    def fit_fwd(self, batch_size=64, epochs=5, validation_split=0.2):\n",
    "        return self.fwd.fit(self.x_train, self.y_train, batch_size=batch_size, epochs=epochs, validation_split=0.2, shuffle=True)\n",
    "        \n",
    "    \n",
    "    def save_model(self, path, model='fwd'):\n",
    "        if model == 'fwd':\n",
    "            self.fwd.save(path)\n",
    "        else:\n",
    "            self.bwd.save(path)\n",
    "    \n",
    "    def plot(self, history):\n",
    "        plt.plot(history.epoch, history.history['accuracy'])\n",
    "        plt.plot(history.epoch, history.history['loss'])\n",
    "        plt.xlabel('epochs')\n",
    "        plt.legend(['accuracy', 'loss'], loc='upper left')\n",
    "    "
   ]
  },
  {
   "cell_type": "code",
   "execution_count": 4,
   "metadata": {},
   "outputs": [],
   "source": [
    "tandem = TandemModel(TRAIN_DATA_PATH)"
   ]
  },
  {
   "cell_type": "code",
   "execution_count": 5,
   "metadata": {},
   "outputs": [
    {
     "name": "stdout",
     "output_type": "stream",
     "text": [
      "((5,), 60) ((60,), 5)\n"
     ]
    }
   ],
   "source": [
    "print((tandem.fwd_input_shape, tandem.fwd_ouput_units), (tandem.bwd_input_shape, tandem.bwd_output_units))"
   ]
  },
  {
   "cell_type": "code",
   "execution_count": 6,
   "metadata": {},
   "outputs": [
    {
     "name": "stdout",
     "output_type": "stream",
     "text": [
      "WARNING:tensorflow:From /home/ninja/anaconda3/envs/DS1_env/lib/python3.7/site-packages/tensorflow/python/ops/init_ops.py:1251: calling VarianceScaling.__init__ (from tensorflow.python.ops.init_ops) with dtype is deprecated and will be removed in a future version.\n",
      "Instructions for updating:\n",
      "Call initializer instance with the dtype argument instead of passing it to the constructor\n",
      "Model: \"model\"\n",
      "_________________________________________________________________\n",
      "Layer (type)                 Output Shape              Param #   \n",
      "=================================================================\n",
      "bwd_input_layer (InputLayer) [(None, 60)]              0         \n",
      "_________________________________________________________________\n",
      "bwd_hidden_layer1 (Dense)    (None, 64)                3904      \n",
      "_________________________________________________________________\n",
      "batch_normalization (BatchNo (None, 64)                256       \n",
      "_________________________________________________________________\n",
      "bwd_hidden_layer2 (Dense)    (None, 64)                4160      \n",
      "_________________________________________________________________\n",
      "batch_normalization_1 (Batch (None, 64)                256       \n",
      "_________________________________________________________________\n",
      "bwd_hidden_layer3 (Dense)    (None, 64)                4160      \n",
      "_________________________________________________________________\n",
      "batch_normalization_2 (Batch (None, 64)                256       \n",
      "_________________________________________________________________\n",
      "bwd_hidden_layer4 (Dense)    (None, 32)                2080      \n",
      "_________________________________________________________________\n",
      "batch_normalization_3 (Batch (None, 32)                128       \n",
      "_________________________________________________________________\n",
      "bwd_output_layer (Dense)     (None, 5)                 165       \n",
      "=================================================================\n",
      "Total params: 15,365\n",
      "Trainable params: 14,917\n",
      "Non-trainable params: 448\n",
      "_________________________________________________________________\n",
      "Model: \"forward_model\"\n",
      "_________________________________________________________________\n",
      "Layer (type)                 Output Shape              Param #   \n",
      "=================================================================\n",
      "input_layer (InputLayer)     [(None, 5)]               0         \n",
      "_________________________________________________________________\n",
      "hidden_layer1 (Dense)        (None, 64)                384       \n",
      "_________________________________________________________________\n",
      "batch_normalization_5 (Batch (None, 64)                256       \n",
      "_________________________________________________________________\n",
      "hidden_layer2 (Dense)        (None, 64)                4160      \n",
      "_________________________________________________________________\n",
      "batch_normalization_6 (Batch (None, 64)                256       \n",
      "_________________________________________________________________\n",
      "hidden_layer3 (Dense)        (None, 64)                4160      \n",
      "_________________________________________________________________\n",
      "batch_normalization_7 (Batch (None, 64)                256       \n",
      "_________________________________________________________________\n",
      "hidden_layer4 (Dense)        (None, 64)                4160      \n",
      "_________________________________________________________________\n",
      "batch_normalization_8 (Batch (None, 64)                256       \n",
      "_________________________________________________________________\n",
      "output_layer (Dense)         (None, 60)                3900      \n",
      "=================================================================\n",
      "WARNING:tensorflow:Discrepancy between trainable weights and collected trainable weights, did you set `model.trainable` without calling `model.compile` after ?\n",
      "Total params: 35,064\n",
      "Trainable params: 17,276\n",
      "Non-trainable params: 17,788\n",
      "_________________________________________________________________\n",
      "Model: \"model_1\"\n",
      "_________________________________________________________________\n",
      "Layer (type)                 Output Shape              Param #   \n",
      "=================================================================\n",
      "bwd_input_layer (InputLayer) [(None, 60)]              0         \n",
      "_________________________________________________________________\n",
      "bwd_hidden_layer1 (Dense)    (None, 64)                3904      \n",
      "_________________________________________________________________\n",
      "batch_normalization (BatchNo (None, 64)                256       \n",
      "_________________________________________________________________\n",
      "bwd_hidden_layer2 (Dense)    (None, 64)                4160      \n",
      "_________________________________________________________________\n",
      "batch_normalization_1 (Batch (None, 64)                256       \n",
      "_________________________________________________________________\n",
      "bwd_hidden_layer3 (Dense)    (None, 64)                4160      \n",
      "_________________________________________________________________\n",
      "batch_normalization_2 (Batch (None, 64)                256       \n",
      "_________________________________________________________________\n",
      "bwd_hidden_layer4 (Dense)    (None, 32)                2080      \n",
      "_________________________________________________________________\n",
      "batch_normalization_3 (Batch (None, 32)                128       \n",
      "_________________________________________________________________\n",
      "bwd_output_layer (Dense)     (None, 5)                 165       \n",
      "_________________________________________________________________\n",
      "hidden_layer1 (Dense)        (None, 64)                384       \n",
      "_________________________________________________________________\n",
      "batch_normalization_5 (Batch (None, 64)                256       \n",
      "_________________________________________________________________\n",
      "hidden_layer2 (Dense)        (None, 64)                4160      \n",
      "_________________________________________________________________\n",
      "batch_normalization_6 (Batch (None, 64)                256       \n",
      "_________________________________________________________________\n",
      "hidden_layer3 (Dense)        (None, 64)                4160      \n",
      "_________________________________________________________________\n",
      "batch_normalization_7 (Batch (None, 64)                256       \n",
      "_________________________________________________________________\n",
      "hidden_layer4 (Dense)        (None, 64)                4160      \n",
      "_________________________________________________________________\n",
      "batch_normalization_8 (Batch (None, 64)                256       \n",
      "_________________________________________________________________\n",
      "output_layer (Dense)         (None, 60)                3900      \n",
      "=================================================================\n",
      "Total params: 33,153\n",
      "Trainable params: 14,917\n",
      "Non-trainable params: 18,236\n",
      "_________________________________________________________________\n"
     ]
    }
   ],
   "source": [
    "tandem.load_fwd_saved_model('fwd_64x64x64x64x60_50epochs300000samples_56%_adam')\n",
    "# tandem.build_fwd_model()\n",
    "tandem.build_bwd_model()\n",
    "tandem.build_tandem_model()\n",
    "tandem.bwd.summary()\n",
    "tandem.fwd.summary()\n",
    "tandem.tandem.summary()\n",
    "tandem.tandem.compile(loss='mse', optimizer='adam', metrics=['accuracy'])"
   ]
  },
  {
   "cell_type": "code",
   "execution_count": 11,
   "metadata": {},
   "outputs": [
    {
     "name": "stdout",
     "output_type": "stream",
     "text": [
      "Train on 216000 samples, validate on 54000 samples\n",
      "Epoch 1/50\n",
      "216000/216000 [==============================] - 8s 35us/sample - loss: 0.0042 - acc: 0.4306 - val_loss: 0.0029 - val_acc: 0.4789\n",
      "Epoch 2/50\n",
      "216000/216000 [==============================] - 8s 36us/sample - loss: 0.0039 - acc: 0.4416 - val_loss: 0.0029 - val_acc: 0.4706\n",
      "Epoch 3/50\n",
      "216000/216000 [==============================] - 7s 35us/sample - loss: 0.0038 - acc: 0.4434 - val_loss: 0.0031 - val_acc: 0.4653\n",
      "Epoch 4/50\n",
      "216000/216000 [==============================] - 8s 36us/sample - loss: 0.0038 - acc: 0.4441 - val_loss: 0.0037 - val_acc: 0.4868\n",
      "Epoch 5/50\n",
      "216000/216000 [==============================] - 8s 36us/sample - loss: 0.0037 - acc: 0.4499 - val_loss: 0.0024 - val_acc: 0.5055\n",
      "Epoch 6/50\n",
      "216000/216000 [==============================] - 8s 36us/sample - loss: 0.0035 - acc: 0.4577 - val_loss: 0.0028 - val_acc: 0.4580\n",
      "Epoch 7/50\n",
      "216000/216000 [==============================] - 8s 36us/sample - loss: 0.0035 - acc: 0.4535 - val_loss: 0.0024 - val_acc: 0.4831\n",
      "Epoch 8/50\n",
      "216000/216000 [==============================] - 8s 36us/sample - loss: 0.0033 - acc: 0.4605 - val_loss: 0.0028 - val_acc: 0.4509\n",
      "Epoch 9/50\n",
      "216000/216000 [==============================] - 8s 36us/sample - loss: 0.0034 - acc: 0.4584 - val_loss: 0.0030 - val_acc: 0.4709\n",
      "Epoch 10/50\n",
      "216000/216000 [==============================] - 8s 36us/sample - loss: 0.0033 - acc: 0.4625 - val_loss: 0.0025 - val_acc: 0.5090\n",
      "Epoch 11/50\n",
      "216000/216000 [==============================] - 9s 40us/sample - loss: 0.0032 - acc: 0.4668 - val_loss: 0.0025 - val_acc: 0.4897\n",
      "Epoch 12/50\n",
      "216000/216000 [==============================] - 8s 36us/sample - loss: 0.0031 - acc: 0.4667 - val_loss: 0.0023 - val_acc: 0.4873\n",
      "Epoch 13/50\n",
      "216000/216000 [==============================] - 8s 36us/sample - loss: 0.0032 - acc: 0.4670 - val_loss: 0.0021 - val_acc: 0.4814\n",
      "Epoch 14/50\n",
      "216000/216000 [==============================] - 8s 37us/sample - loss: 0.0031 - acc: 0.4689 - val_loss: 0.0022 - val_acc: 0.5176\n",
      "Epoch 15/50\n",
      "216000/216000 [==============================] - 8s 36us/sample - loss: 0.0031 - acc: 0.4706 - val_loss: 0.0021 - val_acc: 0.4884\n",
      "Epoch 16/50\n",
      "216000/216000 [==============================] - 8s 37us/sample - loss: 0.0030 - acc: 0.4744 - val_loss: 0.0026 - val_acc: 0.4742\n",
      "Epoch 17/50\n",
      "216000/216000 [==============================] - 8s 36us/sample - loss: 0.0029 - acc: 0.4763 - val_loss: 0.0025 - val_acc: 0.4799\n",
      "Epoch 18/50\n",
      "216000/216000 [==============================] - 8s 38us/sample - loss: 0.0029 - acc: 0.4761 - val_loss: 0.0030 - val_acc: 0.4297\n",
      "Epoch 19/50\n",
      "216000/216000 [==============================] - 8s 37us/sample - loss: 0.0029 - acc: 0.4745 - val_loss: 0.0022 - val_acc: 0.4971\n",
      "Epoch 20/50\n",
      "216000/216000 [==============================] - 8s 36us/sample - loss: 0.0028 - acc: 0.4814 - val_loss: 0.0022 - val_acc: 0.4847\n",
      "Epoch 21/50\n",
      "216000/216000 [==============================] - 8s 36us/sample - loss: 0.0028 - acc: 0.4800 - val_loss: 0.0029 - val_acc: 0.4577\n",
      "Epoch 22/50\n",
      "216000/216000 [==============================] - 8s 36us/sample - loss: 0.0029 - acc: 0.4806 - val_loss: 0.0024 - val_acc: 0.4828\n",
      "Epoch 23/50\n",
      "216000/216000 [==============================] - 8s 37us/sample - loss: 0.0028 - acc: 0.4815 - val_loss: 0.0028 - val_acc: 0.4707\n",
      "Epoch 24/50\n",
      "216000/216000 [==============================] - 8s 38us/sample - loss: 0.0028 - acc: 0.4829 - val_loss: 0.0023 - val_acc: 0.4828\n",
      "Epoch 25/50\n",
      "216000/216000 [==============================] - 8s 36us/sample - loss: 0.0028 - acc: 0.4811 - val_loss: 0.0019 - val_acc: 0.5040\n",
      "Epoch 26/50\n",
      "216000/216000 [==============================] - 8s 36us/sample - loss: 0.0027 - acc: 0.4835 - val_loss: 0.0025 - val_acc: 0.4709\n",
      "Epoch 27/50\n",
      "216000/216000 [==============================] - 8s 36us/sample - loss: 0.0026 - acc: 0.4892 - val_loss: 0.0024 - val_acc: 0.4773\n",
      "Epoch 28/50\n",
      "216000/216000 [==============================] - 8s 37us/sample - loss: 0.0026 - acc: 0.4882 - val_loss: 0.0021 - val_acc: 0.5285\n",
      "Epoch 29/50\n",
      "216000/216000 [==============================] - 8s 37us/sample - loss: 0.0026 - acc: 0.4867 - val_loss: 0.0028 - val_acc: 0.4524\n",
      "Epoch 30/50\n",
      "216000/216000 [==============================] - 8s 37us/sample - loss: 0.0026 - acc: 0.4844 - val_loss: 0.0023 - val_acc: 0.4867\n",
      "Epoch 31/50\n",
      "216000/216000 [==============================] - 8s 37us/sample - loss: 0.0026 - acc: 0.4877 - val_loss: 0.0024 - val_acc: 0.4656\n",
      "Epoch 32/50\n",
      "216000/216000 [==============================] - 8s 37us/sample - loss: 0.0026 - acc: 0.4851 - val_loss: 0.0026 - val_acc: 0.4719\n",
      "Epoch 33/50\n",
      "216000/216000 [==============================] - 8s 37us/sample - loss: 0.0025 - acc: 0.4923 - val_loss: 0.0024 - val_acc: 0.4579\n",
      "Epoch 34/50\n",
      "216000/216000 [==============================] - 8s 37us/sample - loss: 0.0025 - acc: 0.4926 - val_loss: 0.0020 - val_acc: 0.4977\n",
      "Epoch 35/50\n",
      "216000/216000 [==============================] - 8s 37us/sample - loss: 0.0026 - acc: 0.4873 - val_loss: 0.0028 - val_acc: 0.4690\n",
      "Epoch 36/50\n",
      "216000/216000 [==============================] - 8s 35us/sample - loss: 0.0026 - acc: 0.4882 - val_loss: 0.0020 - val_acc: 0.4834\n",
      "Epoch 37/50\n",
      "216000/216000 [==============================] - 8s 35us/sample - loss: 0.0025 - acc: 0.4908 - val_loss: 0.0021 - val_acc: 0.4859\n",
      "Epoch 38/50\n",
      "216000/216000 [==============================] - 8s 35us/sample - loss: 0.0026 - acc: 0.4899 - val_loss: 0.0021 - val_acc: 0.5211\n",
      "Epoch 39/50\n",
      "216000/216000 [==============================] - 8s 36us/sample - loss: 0.0024 - acc: 0.4949 - val_loss: 0.0019 - val_acc: 0.4819\n",
      "Epoch 40/50\n",
      "216000/216000 [==============================] - 8s 36us/sample - loss: 0.0026 - acc: 0.4909 - val_loss: 0.0020 - val_acc: 0.5162\n",
      "Epoch 41/50\n",
      "216000/216000 [==============================] - 8s 36us/sample - loss: 0.0025 - acc: 0.4923 - val_loss: 0.0021 - val_acc: 0.5041\n",
      "Epoch 42/50\n",
      "216000/216000 [==============================] - 8s 36us/sample - loss: 0.0025 - acc: 0.4921 - val_loss: 0.0024 - val_acc: 0.4899\n",
      "Epoch 43/50\n",
      "216000/216000 [==============================] - 8s 35us/sample - loss: 0.0024 - acc: 0.4946 - val_loss: 0.0022 - val_acc: 0.4869\n",
      "Epoch 44/50\n",
      "216000/216000 [==============================] - 8s 36us/sample - loss: 0.0025 - acc: 0.4946 - val_loss: 0.0020 - val_acc: 0.5086\n",
      "Epoch 45/50\n",
      "216000/216000 [==============================] - 8s 38us/sample - loss: 0.0024 - acc: 0.4920 - val_loss: 0.0027 - val_acc: 0.4455\n",
      "Epoch 46/50\n",
      "216000/216000 [==============================] - 8s 38us/sample - loss: 0.0024 - acc: 0.4925 - val_loss: 0.0025 - val_acc: 0.4836\n",
      "Epoch 47/50\n",
      "216000/216000 [==============================] - 8s 39us/sample - loss: 0.0024 - acc: 0.4956 - val_loss: 0.0027 - val_acc: 0.4598\n",
      "Epoch 48/50\n",
      "216000/216000 [==============================] - 8s 37us/sample - loss: 0.0024 - acc: 0.4963 - val_loss: 0.0029 - val_acc: 0.4427\n",
      "Epoch 49/50\n",
      "216000/216000 [==============================] - 8s 37us/sample - loss: 0.0024 - acc: 0.4950 - val_loss: 0.0019 - val_acc: 0.5023\n",
      "Epoch 50/50\n",
      "216000/216000 [==============================] - 8s 37us/sample - loss: 0.0024 - acc: 0.4942 - val_loss: 0.0020 - val_acc: 0.5127\n"
     ]
    }
   ],
   "source": [
    "history = tandem.tandem.fit(tandem.y_train, tandem.y_train, epochs=50, batch_size=128, validation_split=0.2, shuffle=True)"
   ]
  },
  {
   "cell_type": "code",
   "execution_count": 13,
   "metadata": {},
   "outputs": [
    {
     "name": "stdout",
     "output_type": "stream",
     "text": [
      "30000/30000 [==============================] - 1s 36us/sample - loss: 0.0020 - acc: 0.5165\n"
     ]
    },
    {
     "data": {
      "text/plain": [
       "[0.0019933224784210325, 0.5164667]"
      ]
     },
     "execution_count": 13,
     "metadata": {},
     "output_type": "execute_result"
    }
   ],
   "source": [
    "tandem.tandem.evaluate(tandem.y_test, tandem.y_test)"
   ]
  },
  {
   "cell_type": "code",
   "execution_count": 105,
   "metadata": {},
   "outputs": [
    {
     "name": "stdout",
     "output_type": "stream",
     "text": [
      "Failed to import pydot. You must install pydot and graphviz for `pydotprint` to work.\n"
     ]
    }
   ],
   "source": [
    "keras.utils.plot_model(tandem.tandem)"
   ]
  },
  {
   "cell_type": "code",
   "execution_count": 12,
   "metadata": {},
   "outputs": [
    {
     "name": "stdout",
     "output_type": "stream",
     "text": [
      "Model: \"model\"\n",
      "_________________________________________________________________\n",
      "Layer (type)                 Output Shape              Param #   \n",
      "=================================================================\n",
      "bwd_input_layer (InputLayer) [(None, 60)]              0         \n",
      "_________________________________________________________________\n",
      "bwd_hidden_layer1 (Dense)    (None, 64)                3904      \n",
      "_________________________________________________________________\n",
      "batch_normalization (BatchNo (None, 64)                256       \n",
      "_________________________________________________________________\n",
      "bwd_hidden_layer2 (Dense)    (None, 64)                4160      \n",
      "_________________________________________________________________\n",
      "batch_normalization_1 (Batch (None, 64)                256       \n",
      "_________________________________________________________________\n",
      "bwd_hidden_layer3 (Dense)    (None, 64)                4160      \n",
      "_________________________________________________________________\n",
      "batch_normalization_2 (Batch (None, 64)                256       \n",
      "_________________________________________________________________\n",
      "bwd_hidden_layer4 (Dense)    (None, 32)                2080      \n",
      "_________________________________________________________________\n",
      "batch_normalization_3 (Batch (None, 32)                128       \n",
      "_________________________________________________________________\n",
      "bwd_output_layer (Dense)     (None, 5)                 165       \n",
      "=================================================================\n",
      "Total params: 15,365\n",
      "Trainable params: 14,917\n",
      "Non-trainable params: 448\n",
      "_________________________________________________________________\n"
     ]
    }
   ],
   "source": [
    "tandem.bwd.summary()"
   ]
  },
  {
   "cell_type": "code",
   "execution_count": 14,
   "metadata": {},
   "outputs": [],
   "source": [
    "tandem.bwd.save('bwd_64x64x64x32x5_adam_50epochs_51%_300000samples')"
   ]
  },
  {
   "cell_type": "code",
   "execution_count": null,
   "metadata": {},
   "outputs": [],
   "source": []
  },
  {
   "cell_type": "code",
   "execution_count": 25,
   "metadata": {},
   "outputs": [],
   "source": [
    "with np.load(TRAIN_DATA_PATH) as data:\n",
    "    X = data['X']\n",
    "    Y = data['Y']"
   ]
  },
  {
   "cell_type": "code",
   "execution_count": null,
   "metadata": {},
   "outputs": [],
   "source": [
    "print(X.shape, Y.shape)"
   ]
  },
  {
   "cell_type": "code",
   "execution_count": null,
   "metadata": {},
   "outputs": [],
   "source": [
    "y_train, y_test, x_train, x_test = train_test_split(X, Y, test_size=0.1, shuffle=True)"
   ]
  },
  {
   "cell_type": "code",
   "execution_count": null,
   "metadata": {},
   "outputs": [],
   "source": [
    "# clear memory size ~400MB\n",
    "del X\n",
    "del Y"
   ]
  },
  {
   "cell_type": "code",
   "execution_count": null,
   "metadata": {},
   "outputs": [],
   "source": [
    "print(x_train.shape, y_train.shape, x_test.shape, y_test.shape)\n",
    "print(y_test.shape[1:])"
   ]
  },
  {
   "cell_type": "code",
   "execution_count": 2,
   "metadata": {},
   "outputs": [
    {
     "name": "stdout",
     "output_type": "stream",
     "text": [
      "Model: \"sequential_1\"\n",
      "_________________________________________________________________\n",
      "Layer (type)                 Output Shape              Param #   \n",
      "=================================================================\n",
      "Total params: 0\n",
      "Trainable params: 0\n",
      "Non-trainable params: 0\n",
      "_________________________________________________________________\n"
     ]
    }
   ],
   "source": [
    "from tensorflow import keras\n",
    "from tensorflow.keras import layers\n",
    "\n",
    "model = keras.Sequential()\n",
    "model.add(layers.Input(shape=(60, )))\n",
    "model.summary()"
   ]
  },
  {
   "cell_type": "code",
   "execution_count": null,
   "metadata": {},
   "outputs": [],
   "source": [
    "# tandem.fwd.compile(loss='mse', optimizer='adam', metrics=['accuracy'])\n",
    "tandem.fwd.trainable = False\n",
    "# tandem.fit_fwd(batch_size=128, epochs=1)\n",
    "tandem.summary()"
   ]
  },
  {
   "cell_type": "code",
   "execution_count": null,
   "metadata": {},
   "outputs": [],
   "source": [
    "model = build_model()"
   ]
  },
  {
   "cell_type": "code",
   "execution_count": null,
   "metadata": {},
   "outputs": [],
   "source": [
    "model.summary()"
   ]
  },
  {
   "cell_type": "code",
   "execution_count": null,
   "metadata": {},
   "outputs": [],
   "source": [
    "epochs = 50\n",
    "batch_size = 64"
   ]
  },
  {
   "cell_type": "code",
   "execution_count": null,
   "metadata": {},
   "outputs": [],
   "source": [
    "%time\n",
    "history = model.fit(x_train, y_train, batch_size=64, epochs=epochs, validation_split=0.2, shuffle=True)"
   ]
  },
  {
   "cell_type": "code",
   "execution_count": null,
   "metadata": {},
   "outputs": [],
   "source": [
    "xc = range(5)\n",
    "plt.plot(history.history['accuracy'])\n",
    "plt.plot(history.history['loss'])\n",
    "plt.xlabel('epochs')\n",
    "plt.legend(['accuracy', 'loss'], loc='upper left')"
   ]
  },
  {
   "cell_type": "code",
   "execution_count": null,
   "metadata": {},
   "outputs": [],
   "source": [
    "test_scores = model.evaluate(x_test, y_test, verbose=2)\n",
    "print(\"Test loss:\", test_scores[0])\n",
    "print(\"Test accuracy:\", test_scores[1])"
   ]
  },
  {
   "cell_type": "code",
   "execution_count": null,
   "metadata": {},
   "outputs": [],
   "source": [
    "predictions = model.predict(x_test)\n",
    "for i in range(150, 170):\n",
    "    fig, ax = plt.subplots()\n",
    "    ax.plot(y_test[i])\n",
    "    ax.plot(predictions[i])\n",
    "    ax.legend(['actual', 'predicted'])"
   ]
  },
  {
   "cell_type": "code",
   "execution_count": null,
   "metadata": {},
   "outputs": [],
   "source": []
  },
  {
   "cell_type": "code",
   "execution_count": null,
   "metadata": {},
   "outputs": [],
   "source": []
  },
  {
   "cell_type": "code",
   "execution_count": null,
   "metadata": {},
   "outputs": [],
   "source": []
  },
  {
   "cell_type": "code",
   "execution_count": null,
   "metadata": {},
   "outputs": [],
   "source": []
  },
  {
   "cell_type": "code",
   "execution_count": null,
   "metadata": {},
   "outputs": [],
   "source": [
    "model.save('fwd_64x64x64x64x60_50epochs_56%_adam')"
   ]
  },
  {
   "cell_type": "code",
   "execution_count": null,
   "metadata": {},
   "outputs": [],
   "source": []
  },
  {
   "cell_type": "code",
   "execution_count": null,
   "metadata": {},
   "outputs": [],
   "source": []
  },
  {
   "cell_type": "code",
   "execution_count": null,
   "metadata": {},
   "outputs": [],
   "source": []
  }
 ],
 "metadata": {
  "kernelspec": {
   "display_name": "Python 3",
   "language": "python",
   "name": "python3"
  },
  "language_info": {
   "codemirror_mode": {
    "name": "ipython",
    "version": 3
   },
   "file_extension": ".py",
   "mimetype": "text/x-python",
   "name": "python",
   "nbconvert_exporter": "python",
   "pygments_lexer": "ipython3",
   "version": "3.7.8"
  }
 },
 "nbformat": 4,
 "nbformat_minor": 4
}
