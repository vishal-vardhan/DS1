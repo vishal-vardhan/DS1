{
 "cells": [
  {
   "cell_type": "code",
   "execution_count": 1,
   "metadata": {},
   "outputs": [
    {
     "name": "stderr",
     "output_type": "stream",
     "text": [
      "/home/ninja/anaconda3/envs/DS1_env/lib/python3.7/site-packages/tensorflow/python/framework/dtypes.py:516: FutureWarning: Passing (type, 1) or '1type' as a synonym of type is deprecated; in a future version of numpy, it will be understood as (type, (1,)) / '(1,)type'.\n",
      "  _np_qint8 = np.dtype([(\"qint8\", np.int8, 1)])\n",
      "/home/ninja/anaconda3/envs/DS1_env/lib/python3.7/site-packages/tensorflow/python/framework/dtypes.py:517: FutureWarning: Passing (type, 1) or '1type' as a synonym of type is deprecated; in a future version of numpy, it will be understood as (type, (1,)) / '(1,)type'.\n",
      "  _np_quint8 = np.dtype([(\"quint8\", np.uint8, 1)])\n",
      "/home/ninja/anaconda3/envs/DS1_env/lib/python3.7/site-packages/tensorflow/python/framework/dtypes.py:518: FutureWarning: Passing (type, 1) or '1type' as a synonym of type is deprecated; in a future version of numpy, it will be understood as (type, (1,)) / '(1,)type'.\n",
      "  _np_qint16 = np.dtype([(\"qint16\", np.int16, 1)])\n",
      "/home/ninja/anaconda3/envs/DS1_env/lib/python3.7/site-packages/tensorflow/python/framework/dtypes.py:519: FutureWarning: Passing (type, 1) or '1type' as a synonym of type is deprecated; in a future version of numpy, it will be understood as (type, (1,)) / '(1,)type'.\n",
      "  _np_quint16 = np.dtype([(\"quint16\", np.uint16, 1)])\n",
      "/home/ninja/anaconda3/envs/DS1_env/lib/python3.7/site-packages/tensorflow/python/framework/dtypes.py:520: FutureWarning: Passing (type, 1) or '1type' as a synonym of type is deprecated; in a future version of numpy, it will be understood as (type, (1,)) / '(1,)type'.\n",
      "  _np_qint32 = np.dtype([(\"qint32\", np.int32, 1)])\n",
      "/home/ninja/anaconda3/envs/DS1_env/lib/python3.7/site-packages/tensorflow/python/framework/dtypes.py:525: FutureWarning: Passing (type, 1) or '1type' as a synonym of type is deprecated; in a future version of numpy, it will be understood as (type, (1,)) / '(1,)type'.\n",
      "  np_resource = np.dtype([(\"resource\", np.ubyte, 1)])\n",
      "/home/ninja/anaconda3/envs/DS1_env/lib/python3.7/site-packages/tensorboard/compat/tensorflow_stub/dtypes.py:541: FutureWarning: Passing (type, 1) or '1type' as a synonym of type is deprecated; in a future version of numpy, it will be understood as (type, (1,)) / '(1,)type'.\n",
      "  _np_qint8 = np.dtype([(\"qint8\", np.int8, 1)])\n",
      "/home/ninja/anaconda3/envs/DS1_env/lib/python3.7/site-packages/tensorboard/compat/tensorflow_stub/dtypes.py:542: FutureWarning: Passing (type, 1) or '1type' as a synonym of type is deprecated; in a future version of numpy, it will be understood as (type, (1,)) / '(1,)type'.\n",
      "  _np_quint8 = np.dtype([(\"quint8\", np.uint8, 1)])\n",
      "/home/ninja/anaconda3/envs/DS1_env/lib/python3.7/site-packages/tensorboard/compat/tensorflow_stub/dtypes.py:543: FutureWarning: Passing (type, 1) or '1type' as a synonym of type is deprecated; in a future version of numpy, it will be understood as (type, (1,)) / '(1,)type'.\n",
      "  _np_qint16 = np.dtype([(\"qint16\", np.int16, 1)])\n",
      "/home/ninja/anaconda3/envs/DS1_env/lib/python3.7/site-packages/tensorboard/compat/tensorflow_stub/dtypes.py:544: FutureWarning: Passing (type, 1) or '1type' as a synonym of type is deprecated; in a future version of numpy, it will be understood as (type, (1,)) / '(1,)type'.\n",
      "  _np_quint16 = np.dtype([(\"quint16\", np.uint16, 1)])\n",
      "/home/ninja/anaconda3/envs/DS1_env/lib/python3.7/site-packages/tensorboard/compat/tensorflow_stub/dtypes.py:545: FutureWarning: Passing (type, 1) or '1type' as a synonym of type is deprecated; in a future version of numpy, it will be understood as (type, (1,)) / '(1,)type'.\n",
      "  _np_qint32 = np.dtype([(\"qint32\", np.int32, 1)])\n",
      "/home/ninja/anaconda3/envs/DS1_env/lib/python3.7/site-packages/tensorboard/compat/tensorflow_stub/dtypes.py:550: FutureWarning: Passing (type, 1) or '1type' as a synonym of type is deprecated; in a future version of numpy, it will be understood as (type, (1,)) / '(1,)type'.\n",
      "  np_resource = np.dtype([(\"resource\", np.ubyte, 1)])\n"
     ]
    }
   ],
   "source": [
    "import numpy as np\n",
    "import tensorflow as tf\n",
    "from tensorflow import keras\n",
    "from tensorflow.keras.layers import Dense, Input, BatchNormalization\n",
    "from tensorflow.keras import Sequential, Model\n",
    "from tensorflow.keras.models import load_model\n",
    "from sklearn.model_selection import train_test_split\n",
    "import matplotlib.pyplot as plt\n",
    "%matplotlib inline"
   ]
  },
  {
   "cell_type": "code",
   "execution_count": 2,
   "metadata": {},
   "outputs": [],
   "source": [
    "TRAIN_DATA_PATH = 'data_60_samples300000.npz'\n",
    "# FWD_INPUT_SHAPE = (5, )\n",
    "# FWD_OUTPUT_UNITS = 60\n",
    "\n",
    "# BWD_INPUT_SHAPE = (60, )\n",
    "# BWD_OUTPUT_UNITS = 5"
   ]
  },
  {
   "cell_type": "code",
   "execution_count": 27,
   "metadata": {},
   "outputs": [],
   "source": [
    "class TandemModel:\n",
    "    def __init__(self, path_to_data):\n",
    "        self.path = path_to_data\n",
    "        self.x_train = None\n",
    "        self.y_train = None\n",
    "        self.x_test = None\n",
    "        self.y_test = None\n",
    "        \n",
    "        # load data\n",
    "        with np.load(self.path) as data:\n",
    "            self.x_train, self.x_test, self.y_train, self.y_test = train_test_split(data['X'], data['Y'], test_size=0.1, shuffle=True)\n",
    "            \n",
    "        self.fwd_input_shape = self.x_train.shape[1:]\n",
    "        self.fwd_ouput_units = self.y_train.shape[1]\n",
    "        \n",
    "        self.bwd_input_shape = self.y_train.shape[1:]\n",
    "        self.bwd_output_units = self.x_train.shape[1]\n",
    "        \n",
    "        self.fwd = None\n",
    "        self.bwd = None\n",
    "        self.tandem = None\n",
    "\n",
    "        \n",
    "    def build_fwd_model(self):\n",
    "        \"\"\"\n",
    "        predicts target response based on design parameters\n",
    "        \"\"\"\n",
    "        self.fwd = Sequential(name='fwd_model')\n",
    "        \n",
    "        inputs = Input(shape=self.fwd_input_shape, name='fwd_input_layer')\n",
    "        \n",
    "        x = Dense(64, activation='relu', name='fwd_hidden_layer1')(inputs)\n",
    "        x = BatchNormalization()(x)\n",
    "        x = Dense(64, activation='relu', name='fwd_hidden_layer2')(x)\n",
    "        x = BatchNormalization()(x)\n",
    "        x = Dense(64, activation='relu', name='fwd_hidden_layer3')(x)\n",
    "        x = BatchNormalization()(x)\n",
    "        x = Dense(64, activation='relu', name='fwd_hidden_layer4')(x)\n",
    "        x = BatchNormalization()(x)\n",
    "        \n",
    "        outputs = Dense(self.fwd_ouput_units, name='fwd_output_layer', activation='sigmoid')(x)\n",
    "        \n",
    "        self.fwd = Model(inputs=inputs, outputs=outputs)\n",
    "        \n",
    "#         self.fwd.compile(loss='mse', optimizer='adam', metrics=['accuracy'])\n",
    "\n",
    "    \n",
    "    def load_fwd_saved_model(self, path):\n",
    "        self.fwd = load_model(path)\n",
    "        \n",
    "    \n",
    "    def build_bwd_model(self):\n",
    "        \"\"\"\n",
    "        predicts design parameters based on target response\n",
    "        \"\"\"\n",
    "        \n",
    "        inputs = Input(shape=self.bwd_input_shape, name='bwd_input_layer')\n",
    "        \n",
    "        x = Dense(64, activation='relu', name='bwd_hidden_layer1')(inputs)\n",
    "        x = BatchNormalization()(x)\n",
    "        x = Dense(64, activation='relu', name='bwd_hidden_layer2')(x)\n",
    "        x = BatchNormalization()(x)\n",
    "        x = Dense(64, activation='relu', name='bwd_hidden_layer3')(x)\n",
    "        x = BatchNormalization()(x)\n",
    "        x = Dense(32, activation='relu', name='bwd_hidden_layer4')(x)\n",
    "        x = BatchNormalization()(x)\n",
    "        \n",
    "        outputs = Dense(self.bwd_output_units, name='bwd_output_layer', activation='sigmoid')(x)\n",
    "        \n",
    "        self.bwd = Model(inputs=inputs, outputs=outputs)\n",
    "    \n",
    "    def build_tandem_model(self):\n",
    "        inputs = Input(shape=self.bwd_input_shape, name='bwd_input_layer')\n",
    "        \n",
    "        x = Dense(64, activation='relu', name='bwd_hidden_layer1')(inputs)\n",
    "        x = BatchNormalization()(x)\n",
    "        x = Dense(64, activation='relu', name='bwd_hidden_layer2')(x)\n",
    "        x = BatchNormalization()(x)\n",
    "        x = Dense(64, activation='relu', name='bwd_hidden_layer3')(x)\n",
    "        x = BatchNormalization()(x)\n",
    "        x = Dense(32, activation='relu', name='bwd_hidden_layer4')(x)\n",
    "        x = BatchNormalization()(x)\n",
    "        x = Dense(self.bwd_output_units, name='bwd_output_layer', activation='sigmoid')(x)\n",
    "        \n",
    "        self.fwd.trainable = False\n",
    "        outputs = self.fwd(x)\n",
    "        \n",
    "        self.tandem = Model(inputs=inputs, outputs=outputs)\n",
    "        \n",
    "    \n",
    "    def load_bwd_saved_model(self, path):\n",
    "        self.bwd = load_model(path)\n",
    "    \n",
    "    \n",
    "    def summary(self, model='fwd'):\n",
    "        if(model == 'fwd'):\n",
    "            return self.fwd.summary()\n",
    "        return self.bwd.summary()\n",
    "    \n",
    "    \n",
    "    def fit_fwd(self, batch_size=64, epochs=5, validation_split=0.2):\n",
    "        return self.fwd.fit(self.x_train, self.y_train, batch_size=batch_size, epochs=epochs, validation_split=0.2, shuffle=True)\n",
    "        \n",
    "    \n",
    "    def save_model(self, path, model='fwd'):\n",
    "        if model == 'fwd':\n",
    "            self.fwd.save(path)\n",
    "        else:\n",
    "            self.bwd.save(path)\n",
    "    \n",
    "    def plot(self, history):\n",
    "        plt.plot(history.epoch, history.history['accuracy'])\n",
    "        plt.plot(history.epoch, history.history['loss'])\n",
    "        plt.xlabel('epochs')\n",
    "        plt.legend(['accuracy', 'loss'], loc='upper left')\n",
    "    "
   ]
  },
  {
   "cell_type": "code",
   "execution_count": 28,
   "metadata": {},
   "outputs": [],
   "source": [
    "tandem = TandemModel(TRAIN_DATA_PATH)"
   ]
  },
  {
   "cell_type": "code",
   "execution_count": 29,
   "metadata": {},
   "outputs": [
    {
     "name": "stdout",
     "output_type": "stream",
     "text": [
      "((5,), 60) ((60,), 5)\n"
     ]
    }
   ],
   "source": [
    "print((tandem.fwd_input_shape, tandem.fwd_ouput_units), (tandem.bwd_input_shape, tandem.bwd_output_units))"
   ]
  },
  {
   "cell_type": "code",
   "execution_count": 34,
   "metadata": {},
   "outputs": [
    {
     "name": "stdout",
     "output_type": "stream",
     "text": [
      "Model: \"model_13\"\n",
      "_________________________________________________________________\n",
      "Layer (type)                 Output Shape              Param #   \n",
      "=================================================================\n",
      "bwd_input_layer (InputLayer) [(None, 60)]              0         \n",
      "_________________________________________________________________\n",
      "bwd_hidden_layer1 (Dense)    (None, 64)                3904      \n",
      "_________________________________________________________________\n",
      "batch_normalization_56 (Batc (None, 64)                256       \n",
      "_________________________________________________________________\n",
      "bwd_hidden_layer2 (Dense)    (None, 64)                4160      \n",
      "_________________________________________________________________\n",
      "batch_normalization_57 (Batc (None, 64)                256       \n",
      "_________________________________________________________________\n",
      "bwd_hidden_layer3 (Dense)    (None, 64)                4160      \n",
      "_________________________________________________________________\n",
      "batch_normalization_58 (Batc (None, 64)                256       \n",
      "_________________________________________________________________\n",
      "bwd_hidden_layer4 (Dense)    (None, 32)                2080      \n",
      "_________________________________________________________________\n",
      "batch_normalization_59 (Batc (None, 32)                128       \n",
      "_________________________________________________________________\n",
      "bwd_output_layer (Dense)     (None, 5)                 165       \n",
      "=================================================================\n",
      "Total params: 15,365\n",
      "Trainable params: 14,917\n",
      "Non-trainable params: 448\n",
      "_________________________________________________________________\n",
      "Model: \"forward_model\"\n",
      "_________________________________________________________________\n",
      "Layer (type)                 Output Shape              Param #   \n",
      "=================================================================\n",
      "input_layer (InputLayer)     [(None, 5)]               0         \n",
      "_________________________________________________________________\n",
      "hidden_layer1 (Dense)        (None, 64)                384       \n",
      "_________________________________________________________________\n",
      "batch_normalization_5 (Batch (None, 64)                256       \n",
      "_________________________________________________________________\n",
      "hidden_layer2 (Dense)        (None, 64)                4160      \n",
      "_________________________________________________________________\n",
      "batch_normalization_6 (Batch (None, 64)                256       \n",
      "_________________________________________________________________\n",
      "hidden_layer3 (Dense)        (None, 64)                4160      \n",
      "_________________________________________________________________\n",
      "batch_normalization_7 (Batch (None, 64)                256       \n",
      "_________________________________________________________________\n",
      "hidden_layer4 (Dense)        (None, 64)                4160      \n",
      "_________________________________________________________________\n",
      "batch_normalization_8 (Batch (None, 64)                256       \n",
      "_________________________________________________________________\n",
      "output_layer (Dense)         (None, 60)                3900      \n",
      "=================================================================\n",
      "Total params: 35,064\n",
      "Trainable params: 17,276\n",
      "Non-trainable params: 17,788\n",
      "_________________________________________________________________\n",
      "Model: \"model_14\"\n",
      "_________________________________________________________________\n",
      "Layer (type)                 Output Shape              Param #   \n",
      "=================================================================\n",
      "bwd_input_layer (InputLayer) [(None, 60)]              0         \n",
      "_________________________________________________________________\n",
      "bwd_hidden_layer1 (Dense)    (None, 64)                3904      \n",
      "_________________________________________________________________\n",
      "batch_normalization_60 (Batc (None, 64)                256       \n",
      "_________________________________________________________________\n",
      "bwd_hidden_layer2 (Dense)    (None, 64)                4160      \n",
      "_________________________________________________________________\n",
      "batch_normalization_61 (Batc (None, 64)                256       \n",
      "_________________________________________________________________\n",
      "bwd_hidden_layer3 (Dense)    (None, 64)                4160      \n",
      "_________________________________________________________________\n",
      "batch_normalization_62 (Batc (None, 64)                256       \n",
      "_________________________________________________________________\n",
      "bwd_hidden_layer4 (Dense)    (None, 32)                2080      \n",
      "_________________________________________________________________\n",
      "batch_normalization_63 (Batc (None, 32)                128       \n",
      "_________________________________________________________________\n",
      "bwd_output_layer (Dense)     (None, 5)                 165       \n",
      "_________________________________________________________________\n",
      "forward_model (Model)        (None, 60)                17788     \n",
      "=================================================================\n",
      "Total params: 33,153\n",
      "Trainable params: 14,917\n",
      "Non-trainable params: 18,236\n",
      "_________________________________________________________________\n"
     ]
    }
   ],
   "source": [
    "tandem.load_fwd_saved_model('fwd_64x64x64x64x60_50epochs300000samples_56%_adam')\n",
    "# tandem.build_fwd_model()\n",
    "tandem.build_bwd_model()\n",
    "tandem.build_tandem_model()\n",
    "tandem.bwd.summary()\n",
    "tandem.fwd.summary()\n",
    "tandem.tandem.summary()\n",
    "tandem.tandem.compile(loss='mse', optimizer='adam', metrics=['accuracy'])"
   ]
  },
  {
   "cell_type": "code",
   "execution_count": 35,
   "metadata": {},
   "outputs": [
    {
     "name": "stdout",
     "output_type": "stream",
     "text": [
      "Train on 216000 samples, validate on 54000 samples\n",
      "Epoch 1/10\n"
     ]
    },
    {
     "ename": "InvalidArgumentError",
     "evalue": "You must feed a value for placeholder tensor 'input_layer_2' with dtype float and shape [?,5]\n\t [[{{node input_layer_2}}]]",
     "output_type": "error",
     "traceback": [
      "\u001b[0;31m---------------------------------------------------------------------------\u001b[0m",
      "\u001b[0;31mInvalidArgumentError\u001b[0m                      Traceback (most recent call last)",
      "\u001b[0;32m<ipython-input-35-ffedc0c438b5>\u001b[0m in \u001b[0;36m<module>\u001b[0;34m\u001b[0m\n\u001b[0;32m----> 1\u001b[0;31m \u001b[0mhistory\u001b[0m \u001b[0;34m=\u001b[0m \u001b[0mtandem\u001b[0m\u001b[0;34m.\u001b[0m\u001b[0mtandem\u001b[0m\u001b[0;34m.\u001b[0m\u001b[0mfit\u001b[0m\u001b[0;34m(\u001b[0m\u001b[0mtandem\u001b[0m\u001b[0;34m.\u001b[0m\u001b[0my_train\u001b[0m\u001b[0;34m,\u001b[0m \u001b[0mtandem\u001b[0m\u001b[0;34m.\u001b[0m\u001b[0my_train\u001b[0m\u001b[0;34m,\u001b[0m \u001b[0mepochs\u001b[0m\u001b[0;34m=\u001b[0m\u001b[0;36m10\u001b[0m\u001b[0;34m,\u001b[0m \u001b[0mbatch_size\u001b[0m\u001b[0;34m=\u001b[0m\u001b[0;36m128\u001b[0m\u001b[0;34m,\u001b[0m \u001b[0mvalidation_split\u001b[0m\u001b[0;34m=\u001b[0m\u001b[0;36m0.2\u001b[0m\u001b[0;34m,\u001b[0m \u001b[0mshuffle\u001b[0m\u001b[0;34m=\u001b[0m\u001b[0;32mTrue\u001b[0m\u001b[0;34m)\u001b[0m\u001b[0;34m\u001b[0m\u001b[0;34m\u001b[0m\u001b[0m\n\u001b[0m",
      "\u001b[0;32m~/anaconda3/envs/DS1_env/lib/python3.7/site-packages/tensorflow/python/keras/engine/training.py\u001b[0m in \u001b[0;36mfit\u001b[0;34m(self, x, y, batch_size, epochs, verbose, callbacks, validation_split, validation_data, shuffle, class_weight, sample_weight, initial_epoch, steps_per_epoch, validation_steps, validation_freq, max_queue_size, workers, use_multiprocessing, **kwargs)\u001b[0m\n\u001b[1;32m    778\u001b[0m           \u001b[0mvalidation_steps\u001b[0m\u001b[0;34m=\u001b[0m\u001b[0mvalidation_steps\u001b[0m\u001b[0;34m,\u001b[0m\u001b[0;34m\u001b[0m\u001b[0;34m\u001b[0m\u001b[0m\n\u001b[1;32m    779\u001b[0m           \u001b[0mvalidation_freq\u001b[0m\u001b[0;34m=\u001b[0m\u001b[0mvalidation_freq\u001b[0m\u001b[0;34m,\u001b[0m\u001b[0;34m\u001b[0m\u001b[0;34m\u001b[0m\u001b[0m\n\u001b[0;32m--> 780\u001b[0;31m           steps_name='steps_per_epoch')\n\u001b[0m\u001b[1;32m    781\u001b[0m \u001b[0;34m\u001b[0m\u001b[0m\n\u001b[1;32m    782\u001b[0m   def evaluate(self,\n",
      "\u001b[0;32m~/anaconda3/envs/DS1_env/lib/python3.7/site-packages/tensorflow/python/keras/engine/training_arrays.py\u001b[0m in \u001b[0;36mmodel_iteration\u001b[0;34m(model, inputs, targets, sample_weights, batch_size, epochs, verbose, callbacks, val_inputs, val_targets, val_sample_weights, shuffle, initial_epoch, steps_per_epoch, validation_steps, validation_freq, mode, validation_in_fit, prepared_feed_values_from_dataset, steps_name, **kwargs)\u001b[0m\n\u001b[1;32m    361\u001b[0m \u001b[0;34m\u001b[0m\u001b[0m\n\u001b[1;32m    362\u001b[0m         \u001b[0;31m# Get outputs.\u001b[0m\u001b[0;34m\u001b[0m\u001b[0;34m\u001b[0m\u001b[0;34m\u001b[0m\u001b[0m\n\u001b[0;32m--> 363\u001b[0;31m         \u001b[0mbatch_outs\u001b[0m \u001b[0;34m=\u001b[0m \u001b[0mf\u001b[0m\u001b[0;34m(\u001b[0m\u001b[0mins_batch\u001b[0m\u001b[0;34m)\u001b[0m\u001b[0;34m\u001b[0m\u001b[0;34m\u001b[0m\u001b[0m\n\u001b[0m\u001b[1;32m    364\u001b[0m         \u001b[0;32mif\u001b[0m \u001b[0;32mnot\u001b[0m \u001b[0misinstance\u001b[0m\u001b[0;34m(\u001b[0m\u001b[0mbatch_outs\u001b[0m\u001b[0;34m,\u001b[0m \u001b[0mlist\u001b[0m\u001b[0;34m)\u001b[0m\u001b[0;34m:\u001b[0m\u001b[0;34m\u001b[0m\u001b[0;34m\u001b[0m\u001b[0m\n\u001b[1;32m    365\u001b[0m           \u001b[0mbatch_outs\u001b[0m \u001b[0;34m=\u001b[0m \u001b[0;34m[\u001b[0m\u001b[0mbatch_outs\u001b[0m\u001b[0;34m]\u001b[0m\u001b[0;34m\u001b[0m\u001b[0;34m\u001b[0m\u001b[0m\n",
      "\u001b[0;32m~/anaconda3/envs/DS1_env/lib/python3.7/site-packages/tensorflow/python/keras/backend.py\u001b[0m in \u001b[0;36m__call__\u001b[0;34m(self, inputs)\u001b[0m\n\u001b[1;32m   3290\u001b[0m \u001b[0;34m\u001b[0m\u001b[0m\n\u001b[1;32m   3291\u001b[0m     fetched = self._callable_fn(*array_vals,\n\u001b[0;32m-> 3292\u001b[0;31m                                 run_metadata=self.run_metadata)\n\u001b[0m\u001b[1;32m   3293\u001b[0m     \u001b[0mself\u001b[0m\u001b[0;34m.\u001b[0m\u001b[0m_call_fetch_callbacks\u001b[0m\u001b[0;34m(\u001b[0m\u001b[0mfetched\u001b[0m\u001b[0;34m[\u001b[0m\u001b[0;34m-\u001b[0m\u001b[0mlen\u001b[0m\u001b[0;34m(\u001b[0m\u001b[0mself\u001b[0m\u001b[0;34m.\u001b[0m\u001b[0m_fetches\u001b[0m\u001b[0;34m)\u001b[0m\u001b[0;34m:\u001b[0m\u001b[0;34m]\u001b[0m\u001b[0;34m)\u001b[0m\u001b[0;34m\u001b[0m\u001b[0;34m\u001b[0m\u001b[0m\n\u001b[1;32m   3294\u001b[0m     output_structure = nest.pack_sequence_as(\n",
      "\u001b[0;32m~/anaconda3/envs/DS1_env/lib/python3.7/site-packages/tensorflow/python/client/session.py\u001b[0m in \u001b[0;36m__call__\u001b[0;34m(self, *args, **kwargs)\u001b[0m\n\u001b[1;32m   1456\u001b[0m         ret = tf_session.TF_SessionRunCallable(self._session._session,\n\u001b[1;32m   1457\u001b[0m                                                \u001b[0mself\u001b[0m\u001b[0;34m.\u001b[0m\u001b[0m_handle\u001b[0m\u001b[0;34m,\u001b[0m \u001b[0margs\u001b[0m\u001b[0;34m,\u001b[0m\u001b[0;34m\u001b[0m\u001b[0;34m\u001b[0m\u001b[0m\n\u001b[0;32m-> 1458\u001b[0;31m                                                run_metadata_ptr)\n\u001b[0m\u001b[1;32m   1459\u001b[0m         \u001b[0;32mif\u001b[0m \u001b[0mrun_metadata\u001b[0m\u001b[0;34m:\u001b[0m\u001b[0;34m\u001b[0m\u001b[0;34m\u001b[0m\u001b[0m\n\u001b[1;32m   1460\u001b[0m           \u001b[0mproto_data\u001b[0m \u001b[0;34m=\u001b[0m \u001b[0mtf_session\u001b[0m\u001b[0;34m.\u001b[0m\u001b[0mTF_GetBuffer\u001b[0m\u001b[0;34m(\u001b[0m\u001b[0mrun_metadata_ptr\u001b[0m\u001b[0;34m)\u001b[0m\u001b[0;34m\u001b[0m\u001b[0;34m\u001b[0m\u001b[0m\n",
      "\u001b[0;31mInvalidArgumentError\u001b[0m: You must feed a value for placeholder tensor 'input_layer_2' with dtype float and shape [?,5]\n\t [[{{node input_layer_2}}]]"
     ]
    }
   ],
   "source": [
    "history = tandem.tandem.fit(tandem.y_train, tandem.y_train, epochs=10, batch_size=128, validation_split=0.2, shuffle=True)"
   ]
  },
  {
   "cell_type": "code",
   "execution_count": 33,
   "metadata": {},
   "outputs": [
    {
     "name": "stdout",
     "output_type": "stream",
     "text": [
      "30000/30000 [==============================] - 1s 48us/sample - loss: 0.2333 - acc: 0.0092\n"
     ]
    },
    {
     "data": {
      "text/plain": [
       "[0.2333372819662094, 0.009166666]"
      ]
     },
     "execution_count": 33,
     "metadata": {},
     "output_type": "execute_result"
    }
   ],
   "source": [
    "tandem.tandem.evaluate(tandem.y_test, tandem.y_test)"
   ]
  },
  {
   "cell_type": "code",
   "execution_count": 105,
   "metadata": {},
   "outputs": [
    {
     "name": "stdout",
     "output_type": "stream",
     "text": [
      "Failed to import pydot. You must install pydot and graphviz for `pydotprint` to work.\n"
     ]
    }
   ],
   "source": [
    "keras.utils.plot_model(tandem.tandem)"
   ]
  },
  {
   "cell_type": "code",
   "execution_count": null,
   "metadata": {},
   "outputs": [],
   "source": []
  },
  {
   "cell_type": "code",
   "execution_count": null,
   "metadata": {},
   "outputs": [],
   "source": []
  },
  {
   "cell_type": "code",
   "execution_count": null,
   "metadata": {},
   "outputs": [],
   "source": []
  },
  {
   "cell_type": "code",
   "execution_count": 25,
   "metadata": {},
   "outputs": [],
   "source": [
    "with np.load(TRAIN_DATA_PATH) as data:\n",
    "    X = data['X']\n",
    "    Y = data['Y']"
   ]
  },
  {
   "cell_type": "code",
   "execution_count": null,
   "metadata": {},
   "outputs": [],
   "source": [
    "print(X.shape, Y.shape)"
   ]
  },
  {
   "cell_type": "code",
   "execution_count": null,
   "metadata": {},
   "outputs": [],
   "source": [
    "y_train, y_test, x_train, x_test = train_test_split(X, Y, test_size=0.1, shuffle=True)"
   ]
  },
  {
   "cell_type": "code",
   "execution_count": null,
   "metadata": {},
   "outputs": [],
   "source": [
    "# clear memory size ~400MB\n",
    "del X\n",
    "del Y"
   ]
  },
  {
   "cell_type": "code",
   "execution_count": null,
   "metadata": {},
   "outputs": [],
   "source": [
    "print(x_train.shape, y_train.shape, x_test.shape, y_test.shape)\n",
    "print(y_test.shape[1:])"
   ]
  },
  {
   "cell_type": "code",
   "execution_count": 2,
   "metadata": {},
   "outputs": [
    {
     "name": "stdout",
     "output_type": "stream",
     "text": [
      "Model: \"sequential_1\"\n",
      "_________________________________________________________________\n",
      "Layer (type)                 Output Shape              Param #   \n",
      "=================================================================\n",
      "Total params: 0\n",
      "Trainable params: 0\n",
      "Non-trainable params: 0\n",
      "_________________________________________________________________\n"
     ]
    }
   ],
   "source": [
    "from tensorflow import keras\n",
    "from tensorflow.keras import layers\n",
    "\n",
    "model = keras.Sequential()\n",
    "model.add(layers.Input(shape=(60, )))\n",
    "model.summary()"
   ]
  },
  {
   "cell_type": "code",
   "execution_count": null,
   "metadata": {},
   "outputs": [],
   "source": [
    "# tandem.fwd.compile(loss='mse', optimizer='adam', metrics=['accuracy'])\n",
    "tandem.fwd.trainable = False\n",
    "# tandem.fit_fwd(batch_size=128, epochs=1)\n",
    "tandem.summary()"
   ]
  },
  {
   "cell_type": "code",
   "execution_count": null,
   "metadata": {},
   "outputs": [],
   "source": [
    "model = build_model()"
   ]
  },
  {
   "cell_type": "code",
   "execution_count": null,
   "metadata": {},
   "outputs": [],
   "source": [
    "model.summary()"
   ]
  },
  {
   "cell_type": "code",
   "execution_count": null,
   "metadata": {},
   "outputs": [],
   "source": [
    "epochs = 50\n",
    "batch_size = 64"
   ]
  },
  {
   "cell_type": "code",
   "execution_count": null,
   "metadata": {},
   "outputs": [],
   "source": [
    "%time\n",
    "history = model.fit(x_train, y_train, batch_size=64, epochs=epochs, validation_split=0.2, shuffle=True)"
   ]
  },
  {
   "cell_type": "code",
   "execution_count": null,
   "metadata": {},
   "outputs": [],
   "source": [
    "xc = range(5)\n",
    "plt.plot(history.history['accuracy'])\n",
    "plt.plot(history.history['loss'])\n",
    "plt.xlabel('epochs')\n",
    "plt.legend(['accuracy', 'loss'], loc='upper left')"
   ]
  },
  {
   "cell_type": "code",
   "execution_count": null,
   "metadata": {},
   "outputs": [],
   "source": [
    "test_scores = model.evaluate(x_test, y_test, verbose=2)\n",
    "print(\"Test loss:\", test_scores[0])\n",
    "print(\"Test accuracy:\", test_scores[1])"
   ]
  },
  {
   "cell_type": "code",
   "execution_count": null,
   "metadata": {},
   "outputs": [],
   "source": [
    "predictions = model.predict(x_test)\n",
    "for i in range(150, 170):\n",
    "    fig, ax = plt.subplots()\n",
    "    ax.plot(y_test[i])\n",
    "    ax.plot(predictions[i])\n",
    "    ax.legend(['actual', 'predicted'])"
   ]
  },
  {
   "cell_type": "code",
   "execution_count": null,
   "metadata": {},
   "outputs": [],
   "source": []
  },
  {
   "cell_type": "code",
   "execution_count": null,
   "metadata": {},
   "outputs": [],
   "source": []
  },
  {
   "cell_type": "code",
   "execution_count": null,
   "metadata": {},
   "outputs": [],
   "source": []
  },
  {
   "cell_type": "code",
   "execution_count": null,
   "metadata": {},
   "outputs": [],
   "source": []
  },
  {
   "cell_type": "code",
   "execution_count": null,
   "metadata": {},
   "outputs": [],
   "source": [
    "model.save('fwd_64x64x64x64x60_50epochs_56%_adam')"
   ]
  },
  {
   "cell_type": "code",
   "execution_count": null,
   "metadata": {},
   "outputs": [],
   "source": []
  },
  {
   "cell_type": "code",
   "execution_count": null,
   "metadata": {},
   "outputs": [],
   "source": []
  },
  {
   "cell_type": "code",
   "execution_count": null,
   "metadata": {},
   "outputs": [],
   "source": []
  }
 ],
 "metadata": {
  "kernelspec": {
   "display_name": "Python 3",
   "language": "python",
   "name": "python3"
  },
  "language_info": {
   "codemirror_mode": {
    "name": "ipython",
    "version": 3
   },
   "file_extension": ".py",
   "mimetype": "text/x-python",
   "name": "python",
   "nbconvert_exporter": "python",
   "pygments_lexer": "ipython3",
   "version": "3.7.8"
  }
 },
 "nbformat": 4,
 "nbformat_minor": 4
}
