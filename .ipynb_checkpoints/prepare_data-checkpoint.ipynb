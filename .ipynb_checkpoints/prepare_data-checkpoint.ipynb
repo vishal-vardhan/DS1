{
 "cells": [
  {
   "cell_type": "code",
   "execution_count": 35,
   "metadata": {},
   "outputs": [],
   "source": [
    "from cmath import sinh, tanh, cosh\n",
    "import matplotlib.pyplot as plt\n",
    "%matplotlib inline"
   ]
  },
  {
   "cell_type": "code",
   "execution_count": 128,
   "metadata": {},
   "outputs": [],
   "source": [
    "SAMPLE_SIZE = 500\n",
    "LO = 300  # nanometers\n",
    "HI = 2000 # nanometers\n",
    "NETA = 0.8  # core power"
   ]
  },
  {
   "cell_type": "code",
   "execution_count": 129,
   "metadata": {},
   "outputs": [],
   "source": [
    "def P(neta, delta, N, pitch, x, x0):\n",
    "    \"\"\"\n",
    "    Reflected power function\n",
    "    \"\"\"\n",
    "    sqrt = lambda v: v**0.5\n",
    "    \n",
    "    g = (1.0/(neta*delta))*((x/x0)-1)\n",
    "    g = g**2\n",
    "    \n",
    "    theta = neta*delta*N*pitch*sqrt(1-g)/x\n",
    "    \n",
    "    nr = sinh(theta)**2\n",
    "    dr = (cosh(theta)**2)-g\n",
    "    \n",
    "    return abs(nr/dr)\n",
    "\n",
    "\n",
    "def reflected_samples(neta, delta, N, pitch, x0):\n",
    "    \"\"\"\n",
    "    func: (function): the function that is being sampled\n",
    "    l: (double): lower limit\n",
    "    r: upper bound\n",
    "    n: number of samples\n",
    "    rest has their usual meaning\n",
    "    \n",
    "    returns : list \n",
    "    \"\"\"\n",
    "    \n",
    "    # uniformly sample the function\n",
    "    # generate sample points\n",
    "    d = (HI-LO)/SAMPLE_SIZE\n",
    "    x = LO\n",
    "    \n",
    "    X = []\n",
    "    Y = []\n",
    "    \n",
    "    for _ in range(SAMPLE_SIZE):\n",
    "        X.append(x)\n",
    "        Y.append(P(neta, delta, N, pitch, x, x0))\n",
    "        x = x + d\n",
    "    \n",
    "    return (X, Y)"
   ]
  },
  {
   "cell_type": "code",
   "execution_count": 130,
   "metadata": {},
   "outputs": [
    {
     "data": {
      "text/plain": [
       "[<matplotlib.lines.Line2D at 0x7f0bb505f1d0>]"
      ]
     },
     "execution_count": 130,
     "metadata": {},
     "output_type": "execute_result"
    },
    {
     "data": {
      "image/png": "[encoded data removed]",
      "text/plain": [
       "<Figure size 432x288 with 1 Axes>"
      ]
     },
     "metadata": {
      "needs_background": "light"
     },
     "output_type": "display_data"
    }
   ],
   "source": [
    "neta = 1\n",
    "delta = 0.01\n",
    "N = 1000\n",
    "pitch = 200\n",
    "x0 = 1000\n",
    "\n",
    "X, Y = reflected_samples(neta, delta, N, pitch, x0)\n",
    "\n",
    "plt.plot(X, Y)"
   ]
  },
  {
   "cell_type": "code",
   "execution_count": 3,
   "metadata": {},
   "outputs": [],
   "source": []
  },
  {
   "cell_type": "code",
   "execution_count": null,
   "metadata": {},
   "outputs": [],
   "source": []
  },
  {
   "cell_type": "code",
   "execution_count": null,
   "metadata": {},
   "outputs": [],
   "source": []
  },
  {
   "cell_type": "code",
   "execution_count": null,
   "metadata": {},
   "outputs": [],
   "source": []
  },
  {
   "cell_type": "code",
   "execution_count": null,
   "metadata": {},
   "outputs": [],
   "source": []
  },
  {
   "cell_type": "code",
   "execution_count": null,
   "metadata": {},
   "outputs": [],
   "source": []
  },
  {
   "cell_type": "code",
   "execution_count": null,
   "metadata": {},
   "outputs": [],
   "source": []
  },
  {
   "cell_type": "code",
   "execution_count": null,
   "metadata": {},
   "outputs": [],
   "source": []
  }
 ],
 "metadata": {
  "kernelspec": {
   "display_name": "Python 3",
   "language": "python",
   "name": "python3"
  },
  "language_info": {
   "codemirror_mode": {
    "name": "ipython",
    "version": 3
   },
   "file_extension": ".py",
   "mimetype": "text/x-python",
   "name": "python",
   "nbconvert_exporter": "python",
   "pygments_lexer": "ipython3",
   "version": "3.7.6"
  }
 },
 "nbformat": 4,
 "nbformat_minor": 4
}
