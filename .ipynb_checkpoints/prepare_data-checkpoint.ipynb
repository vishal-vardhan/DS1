{
 "cells": [
  {
   "cell_type": "code",
   "execution_count": 1,
   "metadata": {},
   "outputs": [],
   "source": [
    "import math\n",
    "%matplotlib inline"
   ]
  },
  {
   "cell_type": "code",
   "execution_count": null,
   "metadata": {},
   "outputs": [],
   "source": [
    "def reflected_samples(neta, delta, N, pitch, l, l0): \n",
    "    \n",
    "    def gamma(l, l0, neta, delta):\n",
    "        return (1.0/(neta*delta))*(l/l0-1)\n",
    "    \n",
    "    def sqrt(x):\n",
    "        return x**2\n",
    "    \n",
    "    g = gamma(l, l0, neta, delta)**2\n",
    "    x = neta*delta*N*pitch*sqrt(1-g)/l\n",
    "    \n",
    "    nr = math.sinh(x)**2\n",
    "    dr = (math.cosh(x)**2)-g\n",
    "    \n",
    "    return samples()"
   ]
  }
 ],
 "metadata": {
  "kernelspec": {
   "display_name": "Python 3",
   "language": "python",
   "name": "python3"
  },
  "language_info": {
   "codemirror_mode": {
    "name": "ipython",
    "version": 3
   },
   "file_extension": ".py",
   "mimetype": "text/x-python",
   "name": "python",
   "nbconvert_exporter": "python",
   "pygments_lexer": "ipython3",
   "version": "3.7.6"
  }
 },
 "nbformat": 4,
 "nbformat_minor": 4
}
