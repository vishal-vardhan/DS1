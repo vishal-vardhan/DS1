{
 "cells": [
  {
   "cell_type": "code",
   "execution_count": 1,
   "metadata": {},
   "outputs": [],
   "source": [
    "from cmath import sinh, tanh, cosh\n",
    "import matplotlib.pyplot as plt\n",
    "import numpy as np\n",
    "import random\n",
    "from sklearn.model_selection import train_test_split"
   ]
  },
  {
   "cell_type": "code",
   "execution_count": 3,
   "metadata": {},
   "outputs": [],
   "source": [
    "SAMPLE_SIZE = 300\n",
    "NETA_RANGE = (0.7, 0.9)\n",
    "DELTA_RANGE = (0.08, 0.1)\n",
    "N_RANGE = (200, 300)\n",
    "PITCH_RANGE = (200, 300)\n",
    "LAMBDA_MAX_RANGE = (1500, 2500)\n",
    "LAMBDA_RANGE = (500, 3500)\n",
    "NO_OF_VARIABLES = 5"
   ]
  },
  {
   "cell_type": "code",
   "execution_count": 2,
   "metadata": {},
   "outputs": [],
   "source": [
    "# generate data plots\n",
    "# load data\n",
    "with np.load('data_300_samples200000.npz') as data:\n",
    "    x_train = data['Xtrain']\n",
    "    x_test = data['Xtest']\n",
    "    y_train = data['Ytrain']\n",
    "    y_test = data['Ytest']"
   ]
  },
  {
   "cell_type": "code",
   "execution_count": null,
   "metadata": {},
   "outputs": [],
   "source": [
    "# select random samples\n",
    "ntr = len(x_train)\n",
    "nte = len(x_test)\n",
    "\n",
    "rtr = random.sample(range(0, ntr), 10)\n",
    "rte = random.sample(range(0, nte), 10)\n",
    "\n",
    "for x in rtr:\n",
    "    "
   ]
  }
 ],
 "metadata": {
  "kernelspec": {
   "display_name": "Python 3.7.8 64-bit ('DS1_env': conda)",
   "language": "python",
   "name": "python37864bitds1envconda38c39326652f410fab5574c02bb306da"
  },
  "language_info": {
   "codemirror_mode": {
    "name": "ipython",
    "version": 3
   },
   "file_extension": ".py",
   "mimetype": "text/x-python",
   "name": "python",
   "nbconvert_exporter": "python",
   "pygments_lexer": "ipython3",
   "version": "3.7.8"
  }
 },
 "nbformat": 4,
 "nbformat_minor": 4
}
